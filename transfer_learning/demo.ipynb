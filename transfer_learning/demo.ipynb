{
 "cells": [
  {
   "cell_type": "code",
   "execution_count": 1,
   "metadata": {},
   "outputs": [],
   "source": [
    "import torch\n",
    "from torch import nn"
   ]
  },
  {
   "cell_type": "code",
   "execution_count": 2,
   "metadata": {},
   "outputs": [],
   "source": [
    "import requests\n",
    "import zipfile\n",
    "from pathlib import Path\n",
    "\n",
    "# Setup path to data folder\n",
    "data_path = Path(\"F:/python/机器学习\")\n",
    "image_path = data_path / \"SData\""
   ]
  },
  {
   "cell_type": "code",
   "execution_count": 3,
   "metadata": {},
   "outputs": [
    {
     "data": {
      "text/plain": [
       "WindowsPath('F:/python/机器学习/SData')"
      ]
     },
     "execution_count": 3,
     "metadata": {},
     "output_type": "execute_result"
    }
   ],
   "source": [
    "image_path"
   ]
  },
  {
   "cell_type": "code",
   "execution_count": 4,
   "metadata": {},
   "outputs": [],
   "source": [
    "import os\n",
    "def walk_through_dir(dir_path):\n",
    "# 这里可以可视化一下\n",
    "  for dirpath, dirnames, filenames in os.walk(dir_path):\n",
    "    print(f\"There are {len(dirnames)} directories and {len(filenames)} images in '{dirpath}'.\")"
   ]
  },
  {
   "cell_type": "code",
   "execution_count": 5,
   "metadata": {},
   "outputs": [
    {
     "name": "stdout",
     "output_type": "stream",
     "text": [
      "There are 2 directories and 4 images in 'F:\\python\\机器学习\\SData'.\n",
      "There are 10 directories and 0 images in 'F:\\python\\机器学习\\SData\\test'.\n",
      "There are 0 directories and 980 images in 'F:\\python\\机器学习\\SData\\test\\0'.\n",
      "There are 0 directories and 1135 images in 'F:\\python\\机器学习\\SData\\test\\1'.\n",
      "There are 0 directories and 1032 images in 'F:\\python\\机器学习\\SData\\test\\2'.\n",
      "There are 0 directories and 1010 images in 'F:\\python\\机器学习\\SData\\test\\3'.\n",
      "There are 0 directories and 982 images in 'F:\\python\\机器学习\\SData\\test\\4'.\n",
      "There are 0 directories and 892 images in 'F:\\python\\机器学习\\SData\\test\\5'.\n",
      "There are 0 directories and 958 images in 'F:\\python\\机器学习\\SData\\test\\6'.\n",
      "There are 0 directories and 1028 images in 'F:\\python\\机器学习\\SData\\test\\7'.\n",
      "There are 0 directories and 974 images in 'F:\\python\\机器学习\\SData\\test\\8'.\n",
      "There are 0 directories and 1009 images in 'F:\\python\\机器学习\\SData\\test\\9'.\n",
      "There are 10 directories and 0 images in 'F:\\python\\机器学习\\SData\\train'.\n",
      "There are 0 directories and 5923 images in 'F:\\python\\机器学习\\SData\\train\\0'.\n",
      "There are 0 directories and 6742 images in 'F:\\python\\机器学习\\SData\\train\\1'.\n",
      "There are 0 directories and 5958 images in 'F:\\python\\机器学习\\SData\\train\\2'.\n",
      "There are 0 directories and 6131 images in 'F:\\python\\机器学习\\SData\\train\\3'.\n",
      "There are 0 directories and 5842 images in 'F:\\python\\机器学习\\SData\\train\\4'.\n",
      "There are 0 directories and 5421 images in 'F:\\python\\机器学习\\SData\\train\\5'.\n",
      "There are 0 directories and 5918 images in 'F:\\python\\机器学习\\SData\\train\\6'.\n",
      "There are 0 directories and 6265 images in 'F:\\python\\机器学习\\SData\\train\\7'.\n",
      "There are 0 directories and 5851 images in 'F:\\python\\机器学习\\SData\\train\\8'.\n",
      "There are 0 directories and 5949 images in 'F:\\python\\机器学习\\SData\\train\\9'.\n"
     ]
    }
   ],
   "source": [
    "walk_through_dir(image_path)"
   ]
  },
  {
   "cell_type": "code",
   "execution_count": 6,
   "metadata": {},
   "outputs": [],
   "source": [
    "train_dir = image_path / \"train\"\n",
    "test_dir = image_path / \"test\""
   ]
  },
  {
   "cell_type": "code",
   "execution_count": 7,
   "metadata": {},
   "outputs": [
    {
     "name": "stdout",
     "output_type": "stream",
     "text": [
      "Random image path: F:\\python\\机器学习\\SData\\train\\0\\mnist_train_52064.png\n",
      "Image class: 0\n",
      "Image height: 28\n",
      "Image width: 28\n"
     ]
    },
    {
     "data": {
      "image/jpeg": "[encoded data removed]",
      "image/png": "[encoded data removed]",
      "text/plain": [
       "<PIL.PngImagePlugin.PngImageFile image mode=L size=28x28>"
      ]
     },
     "execution_count": 7,
     "metadata": {},
     "output_type": "execute_result"
    }
   ],
   "source": [
    "import random\n",
    "from PIL import Image\n",
    "random.seed(42) \n",
    "\n",
    "image_path_list = list(image_path.glob(\"*/*/*.png\"))\n",
    "\n",
    "\n",
    "random_image_path = random.choice(image_path_list)\n",
    "\n",
    "image_class = random_image_path.parent.stem\n",
    "\n",
    "# 4. Open image\n",
    "img = Image.open(random_image_path)\n",
    "\n",
    "# 5. Print metadata\n",
    "print(f\"Random image path: {random_image_path}\")\n",
    "print(f\"Image class: {image_class}\")\n",
    "print(f\"Image height: {img.height}\") \n",
    "print(f\"Image width: {img.width}\")\n",
    "img"
   ]
  },
  {
   "cell_type": "code",
   "execution_count": 8,
   "metadata": {},
   "outputs": [
    {
     "name": "stdout",
     "output_type": "stream",
     "text": [
      "Train data:\n",
      "Dataset ImageFolder\n",
      "    Number of datapoints: 60000\n",
      "    Root location: F:\\python\\机器学习\\SData\\train\n",
      "    StandardTransform\n",
      "Transform: Compose(\n",
      "               Resize(size=(28, 28), interpolation=bilinear, max_size=None, antialias=True)\n",
      "               RandomHorizontalFlip(p=0.5)\n",
      "               ToTensor()\n",
      "           )\n",
      "Test data:\n",
      "Dataset ImageFolder\n",
      "    Number of datapoints: 10000\n",
      "    Root location: F:\\python\\机器学习\\SData\\test\n",
      "    StandardTransform\n",
      "Transform: Compose(\n",
      "               Resize(size=(28, 28), interpolation=bilinear, max_size=None, antialias=True)\n",
      "               RandomHorizontalFlip(p=0.5)\n",
      "               ToTensor()\n",
      "           )\n"
     ]
    }
   ],
   "source": [
    "import torch\n",
    "from torch.utils.data import DataLoader\n",
    "from torchvision import datasets, transforms\n",
    "# Write transform for image\n",
    "data_transform = transforms.Compose([\n",
    "    # Resize the images to 64x64\n",
    "    transforms.Resize(size=(28, 28)),\n",
    "    # Flip the images randomly on the horizontal\n",
    "    transforms.RandomHorizontalFlip(p=0.5), # p = probability of flip, 0.5 = 50% chance\n",
    "    # Turn the image into a torch.Tensor\n",
    "    transforms.ToTensor() # this also converts all pixel values from 0 to 255 to be between 0.0 and 1.0 \n",
    "])\n",
    "from torchvision import datasets\n",
    "train_data = datasets.ImageFolder(root=train_dir, # target folder of images\n",
    "                                  transform=data_transform, # transforms to perform on data (images)\n",
    "                                  target_transform=None) # transforms to perform on labels (if necessary)\n",
    "\n",
    "test_data = datasets.ImageFolder(root=test_dir, \n",
    "                                 transform=data_transform)\n",
    "\n",
    "print(f\"Train data:\\n{train_data}\\nTest data:\\n{test_data}\")"
   ]
  },
  {
   "cell_type": "code",
   "execution_count": 9,
   "metadata": {},
   "outputs": [],
   "source": [
    "img, label = train_data[0][0], train_data[0][1]"
   ]
  },
  {
   "cell_type": "code",
   "execution_count": 11,
   "metadata": {},
   "outputs": [
    {
     "data": {
      "text/plain": [
       "torch.Size([3, 28, 28])"
      ]
     },
     "execution_count": 11,
     "metadata": {},
     "output_type": "execute_result"
    }
   ],
   "source": [
    "img.shape"
   ]
  },
  {
   "cell_type": "code",
   "execution_count": 1,
   "metadata": {},
   "outputs": [],
   "source": [
    "import torch\n",
    "import torch.nn as nn\n",
    "from Config import *\n",
    "import numpy as np\n",
    "from creat_dataset import *\n",
    "from engine import *\n",
    "import models\n",
    "import matplotlib.pyplot as plt"
   ]
  },
  {
   "cell_type": "code",
   "execution_count": 55,
   "metadata": {},
   "outputs": [
    {
     "name": "stdout",
     "output_type": "stream",
     "text": [
      "59001\n",
      "9001\n"
     ]
    }
   ],
   "source": [
    "source_transform = transforms.Compose([\n",
    "    transforms.Resize(size=(28, 28)),\n",
    "    transforms.Grayscale(num_output_channels = 1),\n",
    "    transforms.RandomHorizontalFlip(p=0.5), \n",
    "    transforms.RandomInvert(p=0.5), # 数据增强随机翻转\n",
    "    transforms.ToTensor() \n",
    "])\n",
    "\n",
    "\"\"\"目标数据集的创建\"\"\"\n",
    "\n",
    "traget_train_dataset = mydataset(Config.train_x,Config.train_y,source_transform)\n",
    "traget_test_dataset = mydataset(Config.test_x,Config.test_y,source_transform)\n",
    "traget_train_dataloader = DataLoader(traget_train_dataset,Config.batch_size,shuffle=True)\n",
    "traget_test_dataloader = DataLoader(traget_test_dataset,Config.batch_size,shuffle=True)\n",
    "\n",
    "\n",
    "\n",
    "\"\"\"源数据的创建\"\"\"\n",
    "\n",
    "source_train_data = datasets.ImageFolder(root=Config.train_dir, \n",
    "                                  transform=source_transform, \n",
    "                                  target_transform=None) \n",
    "source_test_data = datasets.ImageFolder(root=Config.test_dir, \n",
    "                                 transform=source_transform)\n",
    "source_train_dataloader = DataLoader(source_train_data,Config.batch_size,shuffle=True)\n",
    "source_test_dataloader = DataLoader(source_test_data,Config.batch_size,shuffle=True)"
   ]
  },
  {
   "cell_type": "code",
   "execution_count": null,
   "metadata": {},
   "outputs": [],
   "source": []
  },
  {
   "cell_type": "code",
   "execution_count": 16,
   "metadata": {},
   "outputs": [],
   "source": [
    "layer = nn.Sequential(nn.Conv2d(3,96,11,4,0),\n",
    "                                   nn.ReLU(),\n",
    "                                   nn.MaxPool2d(kernel_size=3,stride=2),\n",
    "                                   nn.Conv2d(96,256,5,1,2),\n",
    "                                   nn.ReLU(),\n",
    "                                   nn.MaxPool2d(kernel_size=3,stride=2),\n",
    "                                   nn.Conv2d(256,384,3,1,1),\n",
    "                                   nn.ReLU(),\n",
    "                                   nn.Conv2d(384,384,3,1,1),\n",
    "                                   nn.ReLU(),\n",
    "                                   nn.Conv2d(384,256,3,1,1),\n",
    "                                   nn.ReLU(),\n",
    "                                   nn.MaxPool2d(kernel_size=3,stride=2))"
   ]
  },
  {
   "cell_type": "code",
   "execution_count": 26,
   "metadata": {},
   "outputs": [],
   "source": [
    "x,y = next(iter(source_train_dataloader))"
   ]
  },
  {
   "cell_type": "code",
   "execution_count": 27,
   "metadata": {},
   "outputs": [
    {
     "data": {
      "text/plain": [
       "torch.Size([32, 3, 227, 227])"
      ]
     },
     "execution_count": 27,
     "metadata": {},
     "output_type": "execute_result"
    }
   ],
   "source": [
    "x.shape"
   ]
  },
  {
   "cell_type": "code",
   "execution_count": 28,
   "metadata": {},
   "outputs": [],
   "source": [
    "x = layer(x)"
   ]
  },
  {
   "cell_type": "code",
   "execution_count": 29,
   "metadata": {},
   "outputs": [
    {
     "data": {
      "text/plain": [
       "tensor([[0.0100, 0.0100, 0.0069,  ..., 0.0105, 0.0086, 0.0063],\n",
       "        [0.0146, 0.0117, 0.0088,  ..., 0.0084, 0.0059, 0.0052],\n",
       "        [0.0145, 0.0085, 0.0085,  ..., 0.0044, 0.0052, 0.0055],\n",
       "        ...,\n",
       "        [0.0138, 0.0121, 0.0129,  ..., 0.0059, 0.0043, 0.0050],\n",
       "        [0.0159, 0.0093, 0.0093,  ..., 0.0073, 0.0073, 0.0046],\n",
       "        [0.0106, 0.0106, 0.0101,  ..., 0.0107, 0.0054, 0.0041]],\n",
       "       grad_fn=<ViewBackward0>)"
      ]
     },
     "execution_count": 29,
     "metadata": {},
     "output_type": "execute_result"
    }
   ],
   "source": [
    "x = x.view(x.size(0), 256 * 6 * 6)\n",
    "x"
   ]
  },
  {
   "cell_type": "code",
   "execution_count": 72,
   "metadata": {},
   "outputs": [
    {
     "name": "stdout",
     "output_type": "stream",
     "text": [
      "59001\n",
      "9001\n"
     ]
    }
   ],
   "source": [
    "source_transform = transforms.Compose([\n",
    "    transforms.Resize(size=(28, 28)),\n",
    "    transforms.RandomHorizontalFlip(p=0.5), \n",
    "    transforms.RandomInvert(p=0.5), # 数据增强随机翻转\n",
    "    transforms.ToTensor() \n",
    "])\n",
    "\n",
    "\"\"\"目标数据集的创建\"\"\"\n",
    "\n",
    "traget_train_dataset = mydataset(Config.train_x,Config.train_y,source_transform)\n",
    "traget_test_dataset = mydataset(Config.test_x,Config.test_y,source_transform)\n",
    "traget_train_dataloader = DataLoader(traget_train_dataset,Config.batch_size,shuffle=True)\n",
    "traget_test_dataloader = DataLoader(traget_test_dataset,Config.batch_size,shuffle=True)\n",
    "\n",
    "\n",
    "\n",
    "\"\"\"源数据的创建\"\"\"\n",
    "\n",
    "source_train_data = datasets.ImageFolder(root=Config.train_dir, \n",
    "                                  transform=source_transform, \n",
    "                                  target_transform=None) \n",
    "source_test_data = datasets.ImageFolder(root=Config.test_dir, \n",
    "                                 transform=source_transform)\n",
    "source_train_dataloader = DataLoader(source_train_data,Config.batch_size,shuffle=False)\n",
    "source_test_dataloader = DataLoader(source_test_data,Config.batch_size,shuffle=False)"
   ]
  },
  {
   "cell_type": "code",
   "execution_count": 78,
   "metadata": {},
   "outputs": [
    {
     "name": "stdout",
     "output_type": "stream",
     "text": [
      "59001\n",
      "9001\n"
     ]
    },
    {
     "data": {
      "image/png": "[encoded data removed]",
      "text/plain": [
       "<Figure size 640x480 with 1 Axes>"
      ]
     },
     "metadata": {},
     "output_type": "display_data"
    }
   ],
   "source": [
    "from PIL import Image\n",
    "import matplotlib.pyplot as plt\n",
    "traget_train_dataset = mydataset(Config.train_x,Config.train_y,source_transform)\n",
    "traget_test_dataset = mydataset(Config.test_x,Config.test_y,source_transform)\n",
    "# 加载图像和标签\n",
    "x,y = traget_train_dataset[12][0],traget_test_dataset [12][1]\n",
    "\n",
    "# # 如果图像是张量，需要将其转换为 PIL 图像\n",
    "# if isinstance(x, torch.Tensor):\n",
    "#     x = x.squeeze()  # 移除单维度\n",
    "#     # 将通道维度放到最后\n",
    "#     x = x.to('cpu').numpy()  # 转换到 CPU 并转换为 numpy 数组\n",
    "\n",
    "# # 确保它是 PIL 图像\n",
    "# x = Image.fromarray(x)\n",
    "x = x.permute(1, 2, 0)\n",
    "# 使用 matplotlib 显示图像\n",
    "plt.imshow(x)\n",
    "plt.title(f'Label: {y}')\n",
    "plt.axis('off')  # 不显示坐标轴\n",
    "plt.show()"
   ]
  },
  {
   "cell_type": "code",
   "execution_count": 79,
   "metadata": {},
   "outputs": [],
   "source": [
    "\n",
    "class mydataset(Dataset):\n",
    "    def __init__(self,data_dir,target_dir,transform=None):\n",
    "        self.paths= list(Path(data_dir).glob(\"*.png\"))\n",
    "        labels = []\n",
    "        with open(target_dir, 'r') as file:\n",
    "            for line in file:\n",
    "                line = line.strip()\n",
    "                line_parts = int(line.split()[1])\n",
    "                labels.append(line_parts)\n",
    "        print(len(labels))\n",
    "        self.y = torch.tensor(labels)\n",
    "        self.transforms = transform\n",
    "\n",
    "    def load_image(self, index):\n",
    "        image_path = self.paths[index]\n",
    "        return Image.open(image_path)     \n",
    "\n",
    "    def __getitem__(self, index):\n",
    "        img = self.load_image(index)\n",
    "        label = self.y[index]\n",
    "        if self.transfroms:\n",
    "            return self.transfroms(img),label\n",
    "        else:\n",
    "            return img, label\n",
    "    def __getitem__(self, index):\n",
    "        img = self.load_image(index)\n",
    "        label = self.y[index]\n",
    "        if self.transforms is not None:  \n",
    "            return self.transforms(img), label\n",
    "        else:\n",
    "            return img, label\n",
    "    def __len__(self):\n",
    "        return len(self.paths)"
   ]
  },
  {
   "cell_type": "code",
   "execution_count": 1,
   "metadata": {},
   "outputs": [
    {
     "ename": "NameError",
     "evalue": "name 'transforms' is not defined",
     "output_type": "error",
     "traceback": [
      "\u001b[1;31m---------------------------------------------------------------------------\u001b[0m",
      "\u001b[1;31mNameError\u001b[0m                                 Traceback (most recent call last)",
      "Cell \u001b[1;32mIn[1], line 1\u001b[0m\n\u001b[1;32m----> 1\u001b[0m target_transform \u001b[38;5;241m=\u001b[39m \u001b[43mtransforms\u001b[49m\u001b[38;5;241m.\u001b[39mCompose([\n\u001b[0;32m      2\u001b[0m     transforms\u001b[38;5;241m.\u001b[39mResize(size\u001b[38;5;241m=\u001b[39m(\u001b[38;5;241m28\u001b[39m, \u001b[38;5;241m28\u001b[39m)),\n\u001b[0;32m      3\u001b[0m     transforms\u001b[38;5;241m.\u001b[39mGrayscale(num_output_channels \u001b[38;5;241m=\u001b[39m \u001b[38;5;241m1\u001b[39m), \u001b[38;5;66;03m#如果使用这个，记得改输入层\u001b[39;00m\n\u001b[0;32m      4\u001b[0m     transforms\u001b[38;5;241m.\u001b[39mRandomHorizontalFlip(p\u001b[38;5;241m=\u001b[39m\u001b[38;5;241m0.5\u001b[39m), \n\u001b[0;32m      5\u001b[0m     transforms\u001b[38;5;241m.\u001b[39mToTensor() \n\u001b[0;32m      6\u001b[0m ])\n\u001b[0;32m      7\u001b[0m AAA \u001b[38;5;241m=\u001b[39m mydataset(Config\u001b[38;5;241m.\u001b[39mtrain_x,Config\u001b[38;5;241m.\u001b[39mtrain_y,source_transform)\n",
      "\u001b[1;31mNameError\u001b[0m: name 'transforms' is not defined"
     ]
    }
   ],
   "source": [
    "target_transform = transforms.Compose([\n",
    "    transforms.Resize(size=(28, 28)),\n",
    "    transforms.Grayscale(num_output_channels = 1), #如果使用这个，记得改输入层\n",
    "    transforms.RandomHorizontalFlip(p=0.5), \n",
    "    transforms.ToTensor() \n",
    "])\n",
    "AAA = mydataset(Config.train_x,Config.train_y,source_transform)"
   ]
  },
  {
   "cell_type": "code",
   "execution_count": 91,
   "metadata": {},
   "outputs": [
    {
     "data": {
      "image/png": "[encoded data removed]",
      "text/plain": [
       "<Figure size 640x480 with 1 Axes>"
      ]
     },
     "metadata": {},
     "output_type": "display_data"
    }
   ],
   "source": [
    "x,y = AAA[8888][0],AAA [8888][1]\n",
    "\n",
    "# # 如果图像是张量，需要将其转换为 PIL 图像\n",
    "# if isinstance(x, torch.Tensor):\n",
    "#     x = x.squeeze()  # 移除单维度\n",
    "#     # 将通道维度放到最后\n",
    "#     x = x.to('cpu').numpy()  # 转换到 CPU 并转换为 numpy 数组\n",
    "\n",
    "# # 确保它是 PIL 图像\n",
    "# x = Image.fromarray(x)\n",
    "x = x.permute(1, 2, 0)\n",
    "# 使用 matplotlib 显示图像\n",
    "plt.imshow(x)\n",
    "plt.title(f'Label: {y}')\n",
    "plt.axis('off')  # 不显示坐标轴\n",
    "plt.show()"
   ]
  },
  {
   "cell_type": "code",
   "execution_count": null,
   "metadata": {},
   "outputs": [],
   "source": []
  }
 ],
 "metadata": {
  "kernelspec": {
   "display_name": "pytor",
   "language": "python",
   "name": "python3"
  },
  "language_info": {
   "codemirror_mode": {
    "name": "ipython",
    "version": 3
   },
   "file_extension": ".py",
   "mimetype": "text/x-python",
   "name": "python",
   "nbconvert_exporter": "python",
   "pygments_lexer": "ipython3",
   "version": "3.8.18"
  }
 },
 "nbformat": 4,
 "nbformat_minor": 2
}
